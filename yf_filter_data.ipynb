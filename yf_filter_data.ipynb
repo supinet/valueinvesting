{
 "cells": [
  {
   "cell_type": "code",
   "execution_count": 1,
   "metadata": {},
   "outputs": [],
   "source": [
    "import yfinance as yf\n",
    "import pandas as pd\n",
    "import matplotlib.pyplot as plt"
   ]
  },
  {
   "cell_type": "code",
   "execution_count": 2,
   "metadata": {},
   "outputs": [],
   "source": [
    "# Load IBOVESPA ticker symbols from the CSV file\n",
    "data = pd.read_csv('ibov.csv')\n",
    "ibovespa_tickers = data['tickers'].tolist()"
   ]
  },
  {
   "cell_type": "code",
   "execution_count": 3,
   "metadata": {},
   "outputs": [],
   "source": [
    "# Create an empty DataFrame to store historical data\n",
    "historical_data = pd.DataFrame()"
   ]
  },
  {
   "cell_type": "code",
   "execution_count": 6,
   "metadata": {},
   "outputs": [
    {
     "name": "stdout",
     "output_type": "stream",
     "text": [
      "                                Open       High        Low      Close  \\\n",
      "Date                                                                    \n",
      "2023-09-01 00:00:00-03:00   8.090000   8.230000   7.800000   7.800000   \n",
      "2023-09-01 00:00:00-03:00  13.850000  14.000000  13.690000  13.870000   \n",
      "2023-09-01 00:00:00-03:00   0.960000   0.990000   0.940000   0.970000   \n",
      "2023-09-01 00:00:00-03:00  11.100000  11.290000  11.090000  11.290000   \n",
      "2023-09-01 00:00:00-03:00  23.780001  24.440001  23.780001  24.440001   \n",
      "2023-09-01 00:00:00-03:00   5.050000   5.050000   4.900000   5.000000   \n",
      "2023-09-01 00:00:00-03:00   6.700000   6.750000   6.550000   6.690000   \n",
      "\n",
      "                             Volume  Dividends  Stock Splits    Ticker  \n",
      "Date                                                                    \n",
      "2023-09-01 00:00:00-03:00    341300        0.0           0.0  AALR3.SA  \n",
      "2023-09-01 00:00:00-03:00  20325700        0.0           0.0  ABEV3.SA  \n",
      "2023-09-01 00:00:00-03:00   9461200        0.0           0.0  AERI3.SA  \n",
      "2023-09-01 00:00:00-03:00   1842200        0.0           0.0  AESB3.SA  \n",
      "2023-09-01 00:00:00-03:00    387700        0.0           0.0  AGRO3.SA  \n",
      "2023-09-01 00:00:00-03:00     21600        0.0           0.0  AGXY3.SA  \n",
      "2023-09-01 00:00:00-03:00     15700        0.0           0.0  ALLD3.SA  \n"
     ]
    }
   ],
   "source": [
    "print(historical_data)"
   ]
  },
  {
   "cell_type": "code",
   "execution_count": 4,
   "metadata": {},
   "outputs": [
    {
     "name": "stderr",
     "output_type": "stream",
     "text": [
      "/var/folders/0_/jzmb8jld461g6hy1kq23tb6w0000gn/T/ipykernel_3023/3404179619.py:6: FutureWarning: The frame.append method is deprecated and will be removed from pandas in a future version. Use pandas.concat instead.\n",
      "  historical_data = historical_data.append(data)\n",
      "/var/folders/0_/jzmb8jld461g6hy1kq23tb6w0000gn/T/ipykernel_3023/3404179619.py:6: FutureWarning: The frame.append method is deprecated and will be removed from pandas in a future version. Use pandas.concat instead.\n",
      "  historical_data = historical_data.append(data)\n",
      "/var/folders/0_/jzmb8jld461g6hy1kq23tb6w0000gn/T/ipykernel_3023/3404179619.py:6: FutureWarning: The frame.append method is deprecated and will be removed from pandas in a future version. Use pandas.concat instead.\n",
      "  historical_data = historical_data.append(data)\n",
      "/var/folders/0_/jzmb8jld461g6hy1kq23tb6w0000gn/T/ipykernel_3023/3404179619.py:6: FutureWarning: The frame.append method is deprecated and will be removed from pandas in a future version. Use pandas.concat instead.\n",
      "  historical_data = historical_data.append(data)\n",
      "/var/folders/0_/jzmb8jld461g6hy1kq23tb6w0000gn/T/ipykernel_3023/3404179619.py:6: FutureWarning: The frame.append method is deprecated and will be removed from pandas in a future version. Use pandas.concat instead.\n",
      "  historical_data = historical_data.append(data)\n",
      "/var/folders/0_/jzmb8jld461g6hy1kq23tb6w0000gn/T/ipykernel_3023/3404179619.py:6: FutureWarning: The frame.append method is deprecated and will be removed from pandas in a future version. Use pandas.concat instead.\n",
      "  historical_data = historical_data.append(data)\n",
      "/var/folders/0_/jzmb8jld461g6hy1kq23tb6w0000gn/T/ipykernel_3023/3404179619.py:6: FutureWarning: The frame.append method is deprecated and will be removed from pandas in a future version. Use pandas.concat instead.\n",
      "  historical_data = historical_data.append(data)\n"
     ]
    }
   ],
   "source": [
    "# Download historical data for each ticker for the past 5 years\n",
    "for ticker in ibovespa_tickers:\n",
    "    stock = yf.Ticker(ticker)\n",
    "    data = stock.history(period=\"1d\")\n",
    "    data['Ticker'] = ticker  # Add a column for the ticker symbol\n",
    "    historical_data = historical_data.append(data)"
   ]
  },
  {
   "cell_type": "code",
   "execution_count": 5,
   "metadata": {},
   "outputs": [
    {
     "ename": "KeyError",
     "evalue": "'PE'",
     "output_type": "error",
     "traceback": [
      "\u001b[0;31m---------------------------------------------------------------------------\u001b[0m",
      "\u001b[0;31mKeyError\u001b[0m                                  Traceback (most recent call last)",
      "File \u001b[0;32m/usr/local/lib/python3.11/site-packages/pandas/core/indexes/base.py:3802\u001b[0m, in \u001b[0;36mIndex.get_loc\u001b[0;34m(self, key, method, tolerance)\u001b[0m\n\u001b[1;32m   3801\u001b[0m \u001b[39mtry\u001b[39;00m:\n\u001b[0;32m-> 3802\u001b[0m     \u001b[39mreturn\u001b[39;00m \u001b[39mself\u001b[39;49m\u001b[39m.\u001b[39;49m_engine\u001b[39m.\u001b[39;49mget_loc(casted_key)\n\u001b[1;32m   3803\u001b[0m \u001b[39mexcept\u001b[39;00m \u001b[39mKeyError\u001b[39;00m \u001b[39mas\u001b[39;00m err:\n",
      "File \u001b[0;32m/usr/local/lib/python3.11/site-packages/pandas/_libs/index.pyx:138\u001b[0m, in \u001b[0;36mpandas._libs.index.IndexEngine.get_loc\u001b[0;34m()\u001b[0m\n",
      "File \u001b[0;32m/usr/local/lib/python3.11/site-packages/pandas/_libs/index.pyx:165\u001b[0m, in \u001b[0;36mpandas._libs.index.IndexEngine.get_loc\u001b[0;34m()\u001b[0m\n",
      "File \u001b[0;32mpandas/_libs/hashtable_class_helper.pxi:5745\u001b[0m, in \u001b[0;36mpandas._libs.hashtable.PyObjectHashTable.get_item\u001b[0;34m()\u001b[0m\n",
      "File \u001b[0;32mpandas/_libs/hashtable_class_helper.pxi:5753\u001b[0m, in \u001b[0;36mpandas._libs.hashtable.PyObjectHashTable.get_item\u001b[0;34m()\u001b[0m\n",
      "\u001b[0;31mKeyError\u001b[0m: 'PE'",
      "\nThe above exception was the direct cause of the following exception:\n",
      "\u001b[0;31mKeyError\u001b[0m                                  Traceback (most recent call last)",
      "Cell \u001b[0;32mIn[5], line 2\u001b[0m\n\u001b[1;32m      1\u001b[0m \u001b[39m# Filter based on earnings (P/E ratio) between 1 and 15 and dividend yield between 6 and 12\u001b[39;00m\n\u001b[0;32m----> 2\u001b[0m filtered_data \u001b[39m=\u001b[39m historical_data[(historical_data[\u001b[39m'\u001b[39;49m\u001b[39mPE\u001b[39;49m\u001b[39m'\u001b[39;49m] \u001b[39m>\u001b[39m\u001b[39m=\u001b[39m \u001b[39m1\u001b[39m) \u001b[39m&\u001b[39m (historical_data[\u001b[39m'\u001b[39m\u001b[39mPE\u001b[39m\u001b[39m'\u001b[39m] \u001b[39m<\u001b[39m\u001b[39m=\u001b[39m \u001b[39m15\u001b[39m) \u001b[39m&\u001b[39m\n\u001b[1;32m      3\u001b[0m                                 (historical_data[\u001b[39m'\u001b[39m\u001b[39mDividends\u001b[39m\u001b[39m'\u001b[39m] \u001b[39m*\u001b[39m \u001b[39m100\u001b[39m \u001b[39m>\u001b[39m\u001b[39m=\u001b[39m \u001b[39m6\u001b[39m) \u001b[39m&\u001b[39m (historical_data[\u001b[39m'\u001b[39m\u001b[39mDividends\u001b[39m\u001b[39m'\u001b[39m] \u001b[39m*\u001b[39m \u001b[39m100\u001b[39m \u001b[39m<\u001b[39m\u001b[39m=\u001b[39m \u001b[39m12\u001b[39m)]\n",
      "File \u001b[0;32m/usr/local/lib/python3.11/site-packages/pandas/core/frame.py:3807\u001b[0m, in \u001b[0;36mDataFrame.__getitem__\u001b[0;34m(self, key)\u001b[0m\n\u001b[1;32m   3805\u001b[0m \u001b[39mif\u001b[39;00m \u001b[39mself\u001b[39m\u001b[39m.\u001b[39mcolumns\u001b[39m.\u001b[39mnlevels \u001b[39m>\u001b[39m \u001b[39m1\u001b[39m:\n\u001b[1;32m   3806\u001b[0m     \u001b[39mreturn\u001b[39;00m \u001b[39mself\u001b[39m\u001b[39m.\u001b[39m_getitem_multilevel(key)\n\u001b[0;32m-> 3807\u001b[0m indexer \u001b[39m=\u001b[39m \u001b[39mself\u001b[39;49m\u001b[39m.\u001b[39;49mcolumns\u001b[39m.\u001b[39;49mget_loc(key)\n\u001b[1;32m   3808\u001b[0m \u001b[39mif\u001b[39;00m is_integer(indexer):\n\u001b[1;32m   3809\u001b[0m     indexer \u001b[39m=\u001b[39m [indexer]\n",
      "File \u001b[0;32m/usr/local/lib/python3.11/site-packages/pandas/core/indexes/base.py:3804\u001b[0m, in \u001b[0;36mIndex.get_loc\u001b[0;34m(self, key, method, tolerance)\u001b[0m\n\u001b[1;32m   3802\u001b[0m     \u001b[39mreturn\u001b[39;00m \u001b[39mself\u001b[39m\u001b[39m.\u001b[39m_engine\u001b[39m.\u001b[39mget_loc(casted_key)\n\u001b[1;32m   3803\u001b[0m \u001b[39mexcept\u001b[39;00m \u001b[39mKeyError\u001b[39;00m \u001b[39mas\u001b[39;00m err:\n\u001b[0;32m-> 3804\u001b[0m     \u001b[39mraise\u001b[39;00m \u001b[39mKeyError\u001b[39;00m(key) \u001b[39mfrom\u001b[39;00m \u001b[39merr\u001b[39;00m\n\u001b[1;32m   3805\u001b[0m \u001b[39mexcept\u001b[39;00m \u001b[39mTypeError\u001b[39;00m:\n\u001b[1;32m   3806\u001b[0m     \u001b[39m# If we have a listlike key, _check_indexing_error will raise\u001b[39;00m\n\u001b[1;32m   3807\u001b[0m     \u001b[39m#  InvalidIndexError. Otherwise we fall through and re-raise\u001b[39;00m\n\u001b[1;32m   3808\u001b[0m     \u001b[39m#  the TypeError.\u001b[39;00m\n\u001b[1;32m   3809\u001b[0m     \u001b[39mself\u001b[39m\u001b[39m.\u001b[39m_check_indexing_error(key)\n",
      "\u001b[0;31mKeyError\u001b[0m: 'PE'"
     ]
    }
   ],
   "source": [
    "# Filter based on earnings (P/E ratio) between 1 and 15 and dividend yield between 6 and 12\n",
    "filtered_data = historical_data[(historical_data['PE'] >= 1) & (historical_data['PE'] <= 15) &\n",
    "                                (historical_data['Dividends'] * 100 >= 6) & (historical_data['Dividends'] * 100 <= 12)]\n"
   ]
  },
  {
   "cell_type": "code",
   "execution_count": null,
   "metadata": {},
   "outputs": [],
   "source": [
    "# Create a bar graph to visualize the filtered data\n",
    "plt.figure(figsize=(12, 6))\n",
    "plt.bar(filtered_data['Ticker'], filtered_data['PE'], color='blue', label='P/E Ratio')\n",
    "plt.bar(filtered_data['Ticker'], filtered_data['Dividends'] * 100, color='orange', label='Dividend Yield')\n",
    "\n",
    "# Add labels and title\n",
    "plt.xlabel('Ticker')\n",
    "plt.ylabel('Value')\n",
    "plt.title('P/E Ratio and Dividend Yield of Filtered IBOVESPA Stocks (Past 5 Years)')\n",
    "plt.legend()\n",
    "\n",
    "# Rotate tick labels for better readability\n",
    "plt.xticks(rotation=45)\n",
    "\n",
    "# Show the plo"
   ]
  }
 ],
 "metadata": {
  "kernelspec": {
   "display_name": "Python 3",
   "language": "python",
   "name": "python3"
  },
  "language_info": {
   "codemirror_mode": {
    "name": "ipython",
    "version": 3
   },
   "file_extension": ".py",
   "mimetype": "text/x-python",
   "name": "python",
   "nbconvert_exporter": "python",
   "pygments_lexer": "ipython3",
   "version": "3.11.3"
  },
  "orig_nbformat": 4
 },
 "nbformat": 4,
 "nbformat_minor": 2
}
